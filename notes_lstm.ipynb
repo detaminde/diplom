{
 "cells": [
  {
   "cell_type": "code",
   "execution_count": 6,
   "metadata": {},
   "outputs": [],
   "source": [
    "import pretty_midi \n",
    "import numpy as np\n",
    "import pandas as pd\n",
    "import collections\n",
    "import matplotlib.pyplot as plt\n",
    "from typing import Optional\n",
    "import os\n",
    "import tensorflow as tf\n",
    "from IPython import display"
   ]
  },
  {
   "cell_type": "code",
   "execution_count": 7,
   "metadata": {},
   "outputs": [],
   "source": [
    "audio_data = 'midi/Carlevaro_Introduccion.mid'"
   ]
  },
  {
   "cell_type": "code",
   "execution_count": 8,
   "metadata": {},
   "outputs": [],
   "source": [
    "midi_data = pretty_midi.PrettyMIDI(audio_data)"
   ]
  },
  {
   "cell_type": "code",
   "execution_count": 9,
   "metadata": {},
   "outputs": [
    {
     "name": "stdout",
     "output_type": "stream",
     "text": [
      "171.85459303276724\n"
     ]
    }
   ],
   "source": [
    "print(midi_data.estimate_tempo())"
   ]
  },
  {
   "cell_type": "code",
   "execution_count": 10,
   "metadata": {},
   "outputs": [
    {
     "name": "stdout",
     "output_type": "stream",
     "text": [
      "[0.0645552094150225, 0.06910828873445696, 0.05800516548180099, 0.07806800330164816, 0.17647841946907367, 0.053891418377399684, 0.08178235748329206, 0.07764198418404025, 0.09699922784034934, 0.0715312724658519, 0.04310780946294965, 0.1288308437841148]\n"
     ]
    }
   ],
   "source": [
    "total_velocity = sum(sum(midi_data.get_chroma()))\n",
    "print ([sum(semitone)/total_velocity for semitone in midi_data.get_chroma()])\n",
    "# Shift all notes up by 5 semitones\n",
    "for instrument in midi_data.instruments:\n",
    "    # Don't want to shift drum notes\n",
    "    if not instrument.is_drum:\n",
    "        for note in instrument.notes:\n",
    "            note.pitch += 5\n",
    "# Synthesize the resulting MIDI data using sine waves\n",
    "audio_data = midi_data.synthesize()"
   ]
  },
  {
   "cell_type": "code",
   "execution_count": 11,
   "metadata": {},
   "outputs": [
    {
     "name": "stdout",
     "output_type": "stream",
     "text": [
      "Number of instruments: 3\n",
      "Instrument name: ['Acoustic Guitar (nylon)', 'Acoustic Guitar (nylon)', 'Woodblock']\n"
     ]
    }
   ],
   "source": [
    "print('Number of instruments:', len(midi_data.instruments))\n",
    "instrument = midi_data.instruments\n",
    "instrument_name = list()\n",
    "for i in instrument:\n",
    "    instrument_name.append(pretty_midi.program_to_instrument_name(i.program))\n",
    "print('Instrument name:', instrument_name)\n"
   ]
  },
  {
   "cell_type": "code",
   "execution_count": 12,
   "metadata": {},
   "outputs": [],
   "source": [
    "# for i, note in enumerate(instrument.notes):\n",
    "#   note_name = pretty_midi.note_number_to_name(note.pitch)\n",
    "#   duration = note.end - note.start\n",
    "#   print(f'{i}: pitch={note.pitch}, note_name={note_name},'\n",
    "#         f' duration={duration:.4f}')\n"
   ]
  },
  {
   "cell_type": "code",
   "execution_count": 13,
   "metadata": {},
   "outputs": [],
   "source": [
    "def midi_to_notes(midi_file: str) -> pd.DataFrame:\n",
    "    pm = pretty_midi.PrettyMIDI(midi_file)\n",
    "    instrument = pm.instruments[0]\n",
    "    notes = collections.defaultdict(list)\n",
    "\n",
    "    sorted_notes = sorted(instrument.notes, key=lambda note: note.start)\n",
    "    prev_start = sorted_notes[0].start\n",
    "\n",
    "    for note in sorted_notes:\n",
    "        start = note.start\n",
    "        end = note.end\n",
    "        notes['pitch'].append(note.pitch)\n",
    "        notes['start'].append(start)\n",
    "        notes['end'].append(end)\n",
    "        notes['step'].append(start - prev_start)\n",
    "        notes['duration'].append(end - start)\n",
    "        prev_start = start\n",
    "    return pd.DataFrame({name: np.array(value) for name, value in notes.items()})\n",
    "    "
   ]
  },
  {
   "cell_type": "code",
   "execution_count": 14,
   "metadata": {},
   "outputs": [
    {
     "data": {
      "text/html": [
       "<div>\n",
       "<style scoped>\n",
       "    .dataframe tbody tr th:only-of-type {\n",
       "        vertical-align: middle;\n",
       "    }\n",
       "\n",
       "    .dataframe tbody tr th {\n",
       "        vertical-align: top;\n",
       "    }\n",
       "\n",
       "    .dataframe thead th {\n",
       "        text-align: right;\n",
       "    }\n",
       "</style>\n",
       "<table border=\"1\" class=\"dataframe\">\n",
       "  <thead>\n",
       "    <tr style=\"text-align: right;\">\n",
       "      <th></th>\n",
       "      <th>pitch</th>\n",
       "      <th>start</th>\n",
       "      <th>end</th>\n",
       "      <th>step</th>\n",
       "      <th>duration</th>\n",
       "    </tr>\n",
       "  </thead>\n",
       "  <tbody>\n",
       "    <tr>\n",
       "      <th>0</th>\n",
       "      <td>64</td>\n",
       "      <td>0.0</td>\n",
       "      <td>0.6</td>\n",
       "      <td>0.0</td>\n",
       "      <td>0.6</td>\n",
       "    </tr>\n",
       "    <tr>\n",
       "      <th>1</th>\n",
       "      <td>61</td>\n",
       "      <td>0.6</td>\n",
       "      <td>0.9</td>\n",
       "      <td>0.6</td>\n",
       "      <td>0.3</td>\n",
       "    </tr>\n",
       "    <tr>\n",
       "      <th>2</th>\n",
       "      <td>62</td>\n",
       "      <td>0.9</td>\n",
       "      <td>1.5</td>\n",
       "      <td>0.3</td>\n",
       "      <td>0.6</td>\n",
       "    </tr>\n",
       "    <tr>\n",
       "      <th>3</th>\n",
       "      <td>61</td>\n",
       "      <td>1.5</td>\n",
       "      <td>2.1</td>\n",
       "      <td>0.6</td>\n",
       "      <td>0.6</td>\n",
       "    </tr>\n",
       "    <tr>\n",
       "      <th>4</th>\n",
       "      <td>64</td>\n",
       "      <td>2.1</td>\n",
       "      <td>2.4</td>\n",
       "      <td>0.6</td>\n",
       "      <td>0.3</td>\n",
       "    </tr>\n",
       "    <tr>\n",
       "      <th>5</th>\n",
       "      <td>62</td>\n",
       "      <td>2.4</td>\n",
       "      <td>3.0</td>\n",
       "      <td>0.3</td>\n",
       "      <td>0.6</td>\n",
       "    </tr>\n",
       "    <tr>\n",
       "      <th>6</th>\n",
       "      <td>61</td>\n",
       "      <td>3.0</td>\n",
       "      <td>4.5</td>\n",
       "      <td>0.6</td>\n",
       "      <td>1.5</td>\n",
       "    </tr>\n",
       "    <tr>\n",
       "      <th>7</th>\n",
       "      <td>64</td>\n",
       "      <td>4.8</td>\n",
       "      <td>5.4</td>\n",
       "      <td>1.8</td>\n",
       "      <td>0.6</td>\n",
       "    </tr>\n",
       "    <tr>\n",
       "      <th>8</th>\n",
       "      <td>67</td>\n",
       "      <td>5.4</td>\n",
       "      <td>5.7</td>\n",
       "      <td>0.6</td>\n",
       "      <td>0.3</td>\n",
       "    </tr>\n",
       "    <tr>\n",
       "      <th>9</th>\n",
       "      <td>66</td>\n",
       "      <td>5.7</td>\n",
       "      <td>6.3</td>\n",
       "      <td>0.3</td>\n",
       "      <td>0.6</td>\n",
       "    </tr>\n",
       "  </tbody>\n",
       "</table>\n",
       "</div>"
      ],
      "text/plain": [
       "   pitch  start  end  step  duration\n",
       "0     64    0.0  0.6   0.0       0.6\n",
       "1     61    0.6  0.9   0.6       0.3\n",
       "2     62    0.9  1.5   0.3       0.6\n",
       "3     61    1.5  2.1   0.6       0.6\n",
       "4     64    2.1  2.4   0.6       0.3\n",
       "5     62    2.4  3.0   0.3       0.6\n",
       "6     61    3.0  4.5   0.6       1.5\n",
       "7     64    4.8  5.4   1.8       0.6\n",
       "8     67    5.4  5.7   0.6       0.3\n",
       "9     66    5.7  6.3   0.3       0.6"
      ]
     },
     "execution_count": 14,
     "metadata": {},
     "output_type": "execute_result"
    }
   ],
   "source": [
    "raw_notes = midi_to_notes('midi/Carlevaro_Introduccion.mid')\n",
    "raw_notes.head(10)"
   ]
  },
  {
   "cell_type": "code",
   "execution_count": 15,
   "metadata": {},
   "outputs": [
    {
     "data": {
      "text/plain": [
       "array(['E4', 'C#4', 'D4', 'C#4', 'E4', 'D4', 'C#4', 'E4', 'G4', 'F#4',\n",
       "       'E4', 'A4', 'G#4', 'A4', 'E4', 'G4', 'F#4', 'E4', 'A4', 'G#4',\n",
       "       'A4', 'C5', 'C5', 'A#4', 'G#4', 'B3', 'F#4', 'E2', 'E4', 'G#3',\n",
       "       'G4', 'B3', 'F#4', 'E4', 'A#3', 'G#4', 'A3', 'F#4', 'D4', 'E4',\n",
       "       'B4', 'A#4', 'F#4', 'A4', 'G3', 'B3', 'G4', 'D3', 'G3', 'B3',\n",
       "       'F#4', 'D#3', 'G3', 'B3', 'C4', 'D4', 'C4', 'D4', 'C#4', 'D#4',\n",
       "       'E4', 'E4', 'D4', 'E4', 'G3', 'B3', 'E4', 'E4', 'D#4', 'E4', 'G3',\n",
       "       'B3', 'E5', 'E5', 'D5', 'C5', 'A#4', 'C#4', 'E4', 'F#4', 'E4',\n",
       "       'A#3', 'E4', 'G4', 'G4', 'F#4', 'E4', 'B3', 'E4', 'B3', 'E4', 'B3',\n",
       "       'E4', 'B3', 'E4', 'E4', 'C#4', 'D4', 'C#4', 'E4', 'D4', 'C#4',\n",
       "       'E4', 'G4', 'F#4', 'E4', 'A4', 'G#4', 'G#4', 'A4', 'C5', 'B4',\n",
       "       'A4', 'D#4', 'C#5', 'D4', 'B4', 'G4', 'A4', 'E5', 'D#5', 'B4',\n",
       "       'D5', 'C4', 'E4', 'C5', 'G3', 'C4', 'E4', 'B4', 'F4', 'G4', 'F4',\n",
       "       'G4', 'F#4', 'G#4', 'A4', 'A4', 'G4', 'A4', 'C4', 'E4', 'A4', 'A4',\n",
       "       'G#4', 'A4', 'C4', 'E4', 'F5', 'F5', 'D#5', 'C#5', 'E4', 'F#4',\n",
       "       'G#4', 'A4', 'C#4', 'C4', 'F#4', 'A4', 'A4', 'G#4', 'F#4', 'C#4',\n",
       "       'F#4', 'C#4', 'F#4', 'B3', 'C#4', 'F#4', 'A4', 'C#5', 'D5', 'B5',\n",
       "       'E5', 'G5', 'G#3', 'C4', 'A#3', 'E2', 'G3', 'A#3', 'D3', 'E3',\n",
       "       'G3', 'A#3', 'D3', 'G3', 'E3', 'D3', 'A#3', 'A3', 'F3', 'G#3',\n",
       "       'G3', 'D#3', 'G3', 'A3', 'B3', 'E4', 'A4', 'G#4', 'E4', 'F#4',\n",
       "       'D#4', 'E4', 'C#4', 'D#4', 'B3', 'C#4', 'A3', 'C#4', 'B3', 'G3',\n",
       "       'C#4', 'A3', 'C4', 'G#3', 'B5', 'G5', 'D#5', 'F#5', 'E5', 'B4',\n",
       "       'F#4', 'G#4', 'E4', 'B3', 'D#4', 'G#4', 'G#4', 'E4', 'E4', 'D#4',\n",
       "       'D#4', 'B3', 'B3', 'D#4', 'A#3', 'E3', 'D#4', 'E3', 'A#3', 'E4',\n",
       "       'B3', 'D#3', 'G#3', 'A#3', 'B3', 'E4', 'G4', 'E4', 'D#4', 'C#4',\n",
       "       'G3', 'B3', 'B3', 'E4', 'G#4', 'G4', 'D#4', 'D4', 'B3', 'E4', 'B3',\n",
       "       'D#3', 'B3', 'C4', 'G#3', 'C4', 'G#3', 'C4', 'G#3', 'G3', 'B3',\n",
       "       'E4', 'C4', 'G#3', 'C5', 'B4', 'G4', 'F#4', 'D#4', 'F4', 'C4',\n",
       "       'G#3', 'E4', 'B3', 'G3', 'F4', 'C4', 'G#3', 'G#4', 'G3', 'B3',\n",
       "       'G4', 'F4', 'C4', 'G#3', 'E4', 'B3', 'G3', 'D#4', 'B3', 'D3', 'F4',\n",
       "       'E4', 'C4', 'B3', 'G3', 'D#5', 'B4', 'A#4', 'E3', 'A3', 'C#4',\n",
       "       'D#4', 'B3', 'A#3', 'D#4', 'B3', 'D3', 'B3', 'D#4', 'E4', 'B3',\n",
       "       'G3', 'D4', 'D4', 'D#4', 'D#4', 'B3', 'B3', 'G#3', 'A#3', 'E3',\n",
       "       'E3', 'G#3', 'G#3', 'B3', 'B3', 'C#4', 'A3', 'F3', 'E4', 'E4',\n",
       "       'F4', 'F4', 'C#4', 'C#4', 'C4', 'A#3', 'F#3', 'F#3', 'A#3', 'A#3',\n",
       "       'D4', 'D4', 'D#4', 'B3', 'G3', 'G#3', 'G#3', 'C4', 'C4', 'E4',\n",
       "       'E4', 'F4', 'C#4', 'A3', 'F#4', 'D4', 'A#3', 'G4', 'D#4', 'B3',\n",
       "       'G#4', 'E4', 'C4', 'G#5', 'E5', 'G#4', 'E4', 'G#4', 'G#4', 'E4',\n",
       "       'E4', 'D#4', 'D#4', 'B3', 'B3', 'D#4', 'G#3', 'E3', 'D#3', 'B3',\n",
       "       'E4', 'A4', 'G4', 'F4', 'E4', 'D4', 'C#4', 'C4', 'B3', 'A4', 'A4',\n",
       "       'F4', 'F4', 'E4', 'B3', 'A#3', 'F#3', 'F3', 'F3', 'E3', 'G#3',\n",
       "       'F3', 'G3', 'G#3', 'A#3', 'C4', 'C#4', 'E4', 'G#4', 'B3', 'G3',\n",
       "       'B3', 'G3', 'A2', 'A2', 'B2', 'B2', 'C#3', 'C#3', 'E3', 'E3',\n",
       "       'F#3', 'F#3', 'C#4', 'A3', 'F4', 'A4', 'C4', 'A3', 'C4', 'A3',\n",
       "       'A#2', 'A#2', 'C3', 'C3', 'D3', 'D3', 'F3', 'F3', 'G3', 'G3', 'G4',\n",
       "       'D4', 'A#3', 'G#4', 'D#4', 'B3', 'G#4', 'D#4', 'B3', 'E4', 'B3',\n",
       "       'G3', 'D#4', 'B3', 'G3', 'D#4', 'D4', 'G#4', 'D#4', 'B3', 'B3',\n",
       "       'D#4', 'G#4', 'E4', 'B3', 'G3', 'G3', 'B3', 'D#4', 'D4', 'A#4',\n",
       "       'F4', 'C#4', 'A#4', 'F4', 'C#4', 'E4', 'B3', 'G3', 'A3', 'C#4',\n",
       "       'F4', 'E4', 'A3', 'B2', 'E3', 'B3', 'C#4', 'F#3', 'C#3', 'A2',\n",
       "       'D3', 'A3', 'B2', 'E3', 'B3', 'B5', 'B2', 'E3', 'B3', 'C#4', 'F#3',\n",
       "       'C#3', 'E4', 'A3', 'E3', 'D#3', 'G#3', 'D#4', 'B5', 'C#4', 'F#3',\n",
       "       'C#3', 'E4', 'A3', 'E3', 'G#4', 'C#4', 'G#3', 'F#3', 'F#4', 'B3',\n",
       "       'B5', 'E4', 'A3', 'E3', 'F#3', 'B3', 'F#4', 'G#4', 'C#4', 'G#3',\n",
       "       'G#3', 'C#4', 'G#4', 'B5', 'C#3', 'A3', 'B3', 'E4', 'A5', 'G3',\n",
       "       'D4', 'E4', 'G3', 'D4', 'E4', 'D3', 'C4', 'F4', 'F#3', 'B3', 'E4',\n",
       "       'B4', 'G#3', 'C#4', 'F#4', 'C#5', 'A4', 'E3', 'A3', 'D4', 'B4',\n",
       "       'F#3', 'E4', 'B3', 'B5', 'F#3', 'B3', 'E4', 'B4', 'G#3', 'C#4',\n",
       "       'F#4', 'C#5', 'E5', 'B3', 'E4', 'A4', 'C#4', 'F#4', 'B4', 'D#5',\n",
       "       'B5', 'E4', 'D#4', 'B3', 'B3', 'E5', 'A4', 'E4', 'F#5', 'C#4',\n",
       "       'F#4', 'B4', 'D#4', 'G#4', 'C#5', 'G#5', 'E4', 'D4', 'B3', 'C#4',\n",
       "       'F#4', 'B4', 'F#5', 'D#4', 'G#4', 'C#5', 'G#5', 'D#4', 'G#4',\n",
       "       'C#5', 'G#5', 'D#4', 'G#4', 'C#5', 'G#5', 'D#4', 'G#4', 'C#5',\n",
       "       'G#5', 'D#5', 'F#5', 'E5', 'B4', 'F#4', 'G#4', 'E4', 'B3', 'D#4',\n",
       "       'G#4', 'G#4', 'E4', 'E4', 'D#4', 'D#4', 'B3', 'B3', 'D#4', 'A#3',\n",
       "       'E3', 'D#4', 'A#3', 'E3', 'E4', 'B3', 'D#3', 'G#3', 'A#3', 'B3',\n",
       "       'E4', 'G#4', 'E4', 'D#4', 'C#4', 'G3', 'B3', 'B3', 'A#3', 'D#3',\n",
       "       'E4', 'F#4', 'G4', 'D#4', 'D4', 'B3', 'E4', 'B3', 'D#3', 'B3',\n",
       "       'C4', 'G#3', 'G#2', 'G#2', 'A#2', 'A#2', 'C3', 'C3', 'D#3', 'D#3',\n",
       "       'F3', 'F3', 'C4', 'G#3', 'C4', 'G#3', 'G3', 'B3', 'E4', 'C4',\n",
       "       'G#3', 'C5', 'G3', 'B4', 'G4', 'F#4', 'G#3', 'D#4', 'F4', 'C4',\n",
       "       'G#3', 'E4', 'B3', 'G3', 'F4', 'C4', 'G#3', 'G#4', 'F4', 'C4',\n",
       "       'G#3', 'G3', 'B3', 'E4', 'D#4', 'B3', 'D3', 'F4', 'E4', 'C4', 'B3',\n",
       "       'G3', 'D#5', 'B4', 'A#4', 'F#4', 'E3', 'A3', 'C#4', 'D#4', 'B3',\n",
       "       'A#3', 'D#4', 'B3', 'D3', 'E4', 'D#4', 'B3', 'E3', 'D#3', 'G3',\n",
       "       'G#3', 'C4', 'B3', 'G#3', 'C4', 'B3', 'A3', 'C4', 'B3', 'G5',\n",
       "       'G#5', 'E5', 'G#4', 'E4', 'G#4', 'G#4', 'E4', 'E4', 'D#4', 'B3',\n",
       "       'D#3', 'B3', 'E4', 'G5', 'D#5', 'B4', 'E4', 'B4', 'B4', 'G4', 'G4',\n",
       "       'F#4', 'B5', 'F#3', 'F3', 'A3', 'F#3', 'G#3', 'A3', 'B3', 'C#4',\n",
       "       'D#4', 'F4', 'F#4', 'G#4', 'A4', 'A#4', 'C5', 'C#5', 'D#5', 'F5',\n",
       "       'G#5', 'D#5', 'G4', 'E4', 'F3', 'E4', 'F#4', 'F#4', 'E4', 'E4',\n",
       "       'F#4', 'F#4', 'F#3', 'G3', 'B3', 'G3', 'G3', 'B3', 'A3', 'G3',\n",
       "       'B3', 'G2', 'G2', 'A2', 'A2', 'C3', 'C3', 'D3', 'D3', 'F3', 'F3',\n",
       "       'F#3', 'C#4', 'F#5', 'B4', 'F#4'], dtype='<U3')"
      ]
     },
     "execution_count": 15,
     "metadata": {},
     "output_type": "execute_result"
    }
   ],
   "source": [
    "get_note_names = np.vectorize(pretty_midi.note_number_to_name)\n",
    "sample_note_names = get_note_names(raw_notes['pitch'])\n",
    "sample_note_names"
   ]
  },
  {
   "cell_type": "code",
   "execution_count": 16,
   "metadata": {},
   "outputs": [],
   "source": [
    "def plot_piano_roll(notes: pd.DataFrame, count: Optional[int] = None):\n",
    "  if count:\n",
    "    title = f'First {count} notes'\n",
    "  else:\n",
    "    title = f'Whole track'\n",
    "    count = len(notes['pitch'])\n",
    "  plt.figure(figsize=(20, 4))\n",
    "  plot_pitch = np.stack([notes['pitch'], notes['pitch']], axis=0)\n",
    "  plot_start_stop = np.stack([notes['start'], notes['end']], axis=0)\n",
    "  plt.plot(\n",
    "      plot_start_stop[:, :count], plot_pitch[:, :count], color=\"b\", marker=\".\")\n",
    "  plt.xlabel('Time [s]')\n",
    "  plt.ylabel('Pitch')\n",
    "  _ = plt.title(title)"
   ]
  },
  {
   "cell_type": "code",
   "execution_count": 17,
   "metadata": {},
   "outputs": [
    {
     "data": {
      "image/png": "[encoded data removed]",
      "text/plain": [
       "<Figure size 1440x288 with 1 Axes>"
      ]
     },
     "metadata": {
      "needs_background": "light"
     },
     "output_type": "display_data"
    }
   ],
   "source": [
    "plot_piano_roll(raw_notes)\n"
   ]
  },
  {
   "cell_type": "code",
   "execution_count": 122,
   "metadata": {},
   "outputs": [
    {
     "data": {
      "text/plain": [
       "59"
      ]
     },
     "execution_count": 122,
     "metadata": {},
     "output_type": "execute_result"
    }
   ],
   "source": [
    "midi_directory = 'midi/'\n",
    "filenames = sorted(os.listdir(midi_directory))\n",
    "len(filenames)"
   ]
  },
  {
   "cell_type": "code",
   "execution_count": 123,
   "metadata": {},
   "outputs": [
    {
     "name": "stderr",
     "output_type": "stream",
     "text": [
      "c:\\Users\\detam\\AppData\\Local\\Programs\\Python\\Python310\\lib\\site-packages\\pretty_midi\\pretty_midi.py:100: RuntimeWarning: Tempo, Key or Time signature change events found on non-zero tracks.  This is not a valid type 0 or type 1 MIDI file.  Tempo, Key or Time Signature may be wrong.\n",
      "  warnings.warn(\n"
     ]
    }
   ],
   "source": [
    "num_files = 40\n",
    "all_notes = []\n",
    "for f in filenames[:num_files]:\n",
    "    notes = midi_to_notes(midi_directory + f)\n",
    "    all_notes.append(notes)\n",
    "\n",
    "all_notes = pd.concat(all_notes)\n",
    "# all_notes = np.array(all_notes)\n",
    "# all_notes.shape"
   ]
  },
  {
   "cell_type": "code",
   "execution_count": 124,
   "metadata": {},
   "outputs": [
    {
     "data": {
      "text/plain": [
       "(36382, 5)"
      ]
     },
     "execution_count": 124,
     "metadata": {},
     "output_type": "execute_result"
    }
   ],
   "source": [
    "all_notes.shape"
   ]
  },
  {
   "cell_type": "code",
   "execution_count": 138,
   "metadata": {},
   "outputs": [
    {
     "name": "stdout",
     "output_type": "stream",
     "text": [
      "[1, 2, 4, 5, 10, 17, 20, 34, 68, 85, 107, 170, 214, 340, 428, 535, 1070, 1819, 2140, 3638, 7276, 9095, 18190, 36380]\n"
     ]
    }
   ],
   "source": [
    "n = all_notes.shape[0] - 2\n",
    "i = 1\n",
    "a = []\n",
    "while i ** 2 <= n:\n",
    "    if n % i == 0:\n",
    "        a.append(i)\n",
    "        if i != n // i:\n",
    "            a.append(n // i)\n",
    "    i += 1\n",
    "a.sort()\n",
    "print(a)"
   ]
  },
  {
   "cell_type": "code",
   "execution_count": 141,
   "metadata": {},
   "outputs": [
    {
     "name": "stdout",
     "output_type": "stream",
     "text": [
      "2140\n"
     ]
    }
   ],
   "source": [
    "print((all_notes.shape[0]-2) // 17)"
   ]
  },
  {
   "cell_type": "code",
   "execution_count": 139,
   "metadata": {},
   "outputs": [],
   "source": [
    "all_notes = np.array(all_notes)"
   ]
  },
  {
   "cell_type": "code",
   "execution_count": 142,
   "metadata": {},
   "outputs": [],
   "source": [
    "all_notes = all_notes[:all_notes.shape[0]-2, :].reshape((2140, 17, 5))"
   ]
  },
  {
   "cell_type": "code",
   "execution_count": 143,
   "metadata": {},
   "outputs": [
    {
     "data": {
      "text/plain": [
       "array([[[6.20000000e+01, 2.30769000e-01, 4.61538000e-01, 0.00000000e+00,\n",
       "         2.30769000e-01],\n",
       "        [6.60000000e+01, 4.61538000e-01, 6.92307000e-01, 2.30769000e-01,\n",
       "         2.30769000e-01],\n",
       "        [7.20000000e+01, 6.92307000e-01, 9.23076000e-01, 2.30769000e-01,\n",
       "         2.30769000e-01],\n",
       "        ...,\n",
       "        [6.70000000e+01, 3.46153500e+00, 3.69230400e+00, 2.30769000e-01,\n",
       "         2.30769000e-01],\n",
       "        [6.50000000e+01, 3.69230400e+00, 3.92307300e+00, 2.30769000e-01,\n",
       "         2.30769000e-01],\n",
       "        [5.60000000e+01, 3.92307300e+00, 4.15384200e+00, 2.30769000e-01,\n",
       "         2.30769000e-01]],\n",
       "\n",
       "       [[5.90000000e+01, 4.15384200e+00, 4.38461100e+00, 2.30769000e-01,\n",
       "         2.30769000e-01],\n",
       "        [6.50000000e+01, 4.38461100e+00, 4.61538000e+00, 2.30769000e-01,\n",
       "         2.30769000e-01],\n",
       "        [6.40000000e+01, 4.61538000e+00, 4.84614900e+00, 2.30769000e-01,\n",
       "         2.30769000e-01],\n",
       "        ...,\n",
       "        [6.60000000e+01, 8.36537700e+00, 8.59614600e+00, 2.30769000e-01,\n",
       "         2.30769000e-01],\n",
       "        [7.20000000e+01, 8.59614600e+00, 8.82691500e+00, 2.30769000e-01,\n",
       "         2.30769000e-01],\n",
       "        [6.40000000e+01, 8.82691500e+00, 9.05768400e+00, 2.30769000e-01,\n",
       "         2.30769000e-01]],\n",
       "\n",
       "       [[6.10000000e+01, 9.05768400e+00, 9.28845300e+00, 2.30769000e-01,\n",
       "         2.30769000e-01],\n",
       "        [6.70000000e+01, 9.28845300e+00, 9.51922200e+00, 2.30769000e-01,\n",
       "         2.30769000e-01],\n",
       "        [7.00000000e+01, 9.51922200e+00, 9.74999100e+00, 2.30769000e-01,\n",
       "         2.30769000e-01],\n",
       "        ...,\n",
       "        [6.50000000e+01, 1.22884500e+01, 1.25192190e+01, 2.30769000e-01,\n",
       "         2.30769000e-01],\n",
       "        [6.40000000e+01, 1.25192190e+01, 1.27499880e+01, 2.30769000e-01,\n",
       "         2.30769000e-01],\n",
       "        [5.70000000e+01, 1.27499880e+01, 1.29807570e+01, 2.30769000e-01,\n",
       "         2.30769000e-01]],\n",
       "\n",
       "       ...,\n",
       "\n",
       "       [[6.40000000e+01, 8.37979828e+01, 8.43979828e+01, 6.00000000e-01,\n",
       "         6.00000000e-01],\n",
       "        [6.40000000e+01, 8.43979828e+01, 8.49979828e+01, 6.00000000e-01,\n",
       "         6.00000000e-01],\n",
       "        [6.90000000e+01, 8.49979828e+01, 8.61979828e+01, 6.00000000e-01,\n",
       "         1.20000000e+00],\n",
       "        ...,\n",
       "        [6.20000000e+01, 9.45979828e+01, 9.57979828e+01, 6.00000000e-01,\n",
       "         1.20000000e+00],\n",
       "        [6.00000000e+01, 9.57979828e+01, 9.69979828e+01, 1.20000000e+00,\n",
       "         1.20000000e+00],\n",
       "        [5.90000000e+01, 9.69979828e+01, 9.75979828e+01, 1.20000000e+00,\n",
       "         6.00000000e-01]],\n",
       "\n",
       "       [[6.20000000e+01, 9.75979828e+01, 9.81979828e+01, 6.00000000e-01,\n",
       "         6.00000000e-01],\n",
       "        [6.90000000e+01, 9.81979828e+01, 9.87979828e+01, 6.00000000e-01,\n",
       "         6.00000000e-01],\n",
       "        [7.10000000e+01, 9.87979828e+01, 9.93979828e+01, 6.00000000e-01,\n",
       "         6.00000000e-01],\n",
       "        ...,\n",
       "        [6.70000000e+01, 1.11576025e+02, 1.12176025e+02, 2.40000000e+00,\n",
       "         6.00000000e-01],\n",
       "        [7.00000000e+01, 1.12176025e+02, 1.12776025e+02, 6.00000000e-01,\n",
       "         6.00000000e-01],\n",
       "        [6.90000000e+01, 1.12776025e+02, 1.13376025e+02, 6.00000000e-01,\n",
       "         6.00000000e-01]],\n",
       "\n",
       "       [[6.10000000e+01, 1.13376025e+02, 1.13976025e+02, 6.00000000e-01,\n",
       "         6.00000000e-01],\n",
       "        [6.40000000e+01, 1.13976025e+02, 1.15176025e+02, 6.00000000e-01,\n",
       "         1.20000000e+00],\n",
       "        [6.20000000e+01, 1.15176025e+02, 1.16376025e+02, 1.20000000e+00,\n",
       "         1.20000000e+00],\n",
       "        ...,\n",
       "        [6.00000000e+01, 1.22954066e+02, 1.23620732e+02, 8.33333125e-02,\n",
       "         6.66666500e-01],\n",
       "        [5.90000000e+01, 1.23620732e+02, 1.24287399e+02, 6.66666500e-01,\n",
       "         6.66666500e-01],\n",
       "        [4.50000000e+01, 1.24287399e+02, 1.26954065e+02, 6.66666500e-01,\n",
       "         2.66666600e+00]]])"
      ]
     },
     "execution_count": 143,
     "metadata": {},
     "output_type": "execute_result"
    }
   ],
   "source": [
    "all_notes"
   ]
  },
  {
   "cell_type": "code",
   "execution_count": 144,
   "metadata": {},
   "outputs": [],
   "source": [
    "input_notes = all_notes / np.array([128, 1, 1, 1, 1]) "
   ]
  },
  {
   "cell_type": "code",
   "execution_count": 145,
   "metadata": {},
   "outputs": [
    {
     "data": {
      "text/plain": [
       "(2140, 17, 5)"
      ]
     },
     "execution_count": 145,
     "metadata": {},
     "output_type": "execute_result"
    }
   ],
   "source": [
    "input_notes.shape"
   ]
  },
  {
   "cell_type": "code",
   "execution_count": 146,
   "metadata": {},
   "outputs": [],
   "source": [
    "input_notes_2 = input_notes[:,:,[0,3,4]]"
   ]
  },
  {
   "cell_type": "code",
   "execution_count": 147,
   "metadata": {},
   "outputs": [
    {
     "data": {
      "text/plain": [
       "(2140, 17, 3)"
      ]
     },
     "execution_count": 147,
     "metadata": {},
     "output_type": "execute_result"
    }
   ],
   "source": [
    "input_notes_2.shape"
   ]
  },
  {
   "cell_type": "code",
   "execution_count": 169,
   "metadata": {},
   "outputs": [],
   "source": [
    "x_train, x_test = input_notes_2[:1712, :, :], input_notes_2[1712:, :, :]"
   ]
  },
  {
   "cell_type": "code",
   "execution_count": 28,
   "metadata": {},
   "outputs": [],
   "source": [
    "#key_order = ['pitch', 'step', 'duration']\n",
    "#train_notes = np.stack([all_notes[key] for key in key_order], axis=1)"
   ]
  },
  {
   "cell_type": "code",
   "execution_count": 29,
   "metadata": {},
   "outputs": [],
   "source": [
    "# seq_length = 50\n",
    "# vocab_size = 128\n",
    "# embedding_dim = 256\n",
    "# latent_dim = 50\n",
    "\n",
    "#seq_ds = create_sequences(notes_ds, seq_length, vocab_size)\n",
    "#seq_ds.element_spec"
   ]
  },
  {
   "cell_type": "code",
   "execution_count": 30,
   "metadata": {},
   "outputs": [],
   "source": [
    "# for seq, target in seq_ds.take(1):\n",
    "#   print('sequence shape:', seq.shape)\n",
    "#   print('sequence elements (first 10):', seq[0: 10])\n",
    "#   print()\n",
    "#   print('target:', target)"
   ]
  },
  {
   "cell_type": "code",
   "execution_count": 31,
   "metadata": {},
   "outputs": [],
   "source": [
    "# batch_size = 64\n",
    "# buffer_size = n_notes - seq_length  # the number of items in the dataset\n",
    "# train_ds = (seq_ds\n",
    "#             .shuffle(buffer_size)\n",
    "#             .batch(batch_size, drop_remainder=True)\n",
    "#             .cache()\n",
    "#             .prefetch(tf.data.experimental.AUTOTUNE))"
   ]
  },
  {
   "cell_type": "code",
   "execution_count": 32,
   "metadata": {},
   "outputs": [],
   "source": [
    "#train_ds.element_spec"
   ]
  },
  {
   "cell_type": "code",
   "execution_count": 33,
   "metadata": {},
   "outputs": [],
   "source": [
    "#for elem in train_ds.take(1):\n",
    "# print('sequence elements (first 10):', elem)"
   ]
  },
  {
   "cell_type": "code",
   "execution_count": 34,
   "metadata": {},
   "outputs": [],
   "source": [
    "# latent_dim = 1000\n",
    "# input_shape = (12, 5)\n",
    "\n",
    "# encoder_input = tf.keras.layers.Input(shape=input_shape)\n",
    "# encoder_rnn = tf.keras.layers.LSTM(units=128, return_sequences=True)(encoder_input)\n",
    "# encoder_rnn = tf.keras.layers.LSTM(units=64)(encoder_rnn)\n",
    "\n",
    "\n",
    "\n",
    "# mu = tf.keras.layers.Dense(units=latent_dim, name='mu')(encoder_rnn)\n",
    "# log_var = tf.keras.layers.Dense(units=latent_dim, name='log_var')(encoder_rnn)\n",
    "\n",
    "# def noiser(args):\n",
    "#     global mu, log_var\n",
    "#     mu, log_var = args\n",
    "#     Na = tf.keras.backend.random_normal(shape=(latent_dim,), mean=0.)\n",
    "#     return tf.keras.backend.exp(log_var / 2) * Na + mu\n",
    "\n",
    "# h = tf.keras.layers.Lambda(noiser, output_shape=(latent_dim,))([mu, log_var])\n",
    "\n",
    "# decoder_inputs = tf.keras.layers.Input(shape=(latent_dim,))\n",
    "# decoder_rnn = tf.keras.layers.RepeatVector(input_shape[0])(decoder_inputs)\n",
    "# decoder_rnn = tf.keras.layers.LSTM(units=64, return_sequences=True)(decoder_rnn)\n",
    "# output = tf.keras.layers.TimeDistributed(tf.keras.layers.Dense(units=input_shape[-1], activation='sigmoid'))(decoder_rnn)\n",
    "\n",
    "# encoder = tf.keras.Model(encoder_input, h)\n",
    "# decoder = tf.keras.Model(decoder_inputs, output)\n"
   ]
  },
  {
   "cell_type": "code",
   "execution_count": 191,
   "metadata": {},
   "outputs": [],
   "source": [
    "import tensorflow.keras.backend as K\n",
    "latent_dim = 16\n",
    "inter_dim = 256\n",
    "timesteps, features = input_notes_2.shape[1], 3\n",
    "learning_rate = 0.00001\n",
    "dropout = 0.1"
   ]
  },
  {
   "cell_type": "code",
   "execution_count": 36,
   "metadata": {},
   "outputs": [],
   "source": [
    "def sampling(args):\n",
    "    z_mean, z_log_sigma = args\n",
    "    batch_size = tf.shape(z_mean)[0] # <================\n",
    "    epsilon = K.random_normal(shape=(batch_size, latent_dim), mean=0., stddev=1.)\n",
    "    return z_mean + z_log_sigma * epsilon"
   ]
  },
  {
   "cell_type": "code",
   "execution_count": 192,
   "metadata": {},
   "outputs": [],
   "source": [
    "inputs = tf.keras.layers.Input(shape=(timesteps, features))\n",
    "\n",
    "#intemediate dimension\n",
    "h = tf.keras.layers.LSTM(inter_dim//2, return_sequences=True, dropout=dropout)(inputs)\n",
    "h = tf.keras.layers.LSTM(inter_dim//4, return_sequences=True)(h)\n",
    "h = tf.keras.layers.LSTM(inter_dim, dropout=dropout)(h)\n",
    "\n",
    "#z_layer\n",
    "z_mean = tf.keras.layers.Dense(latent_dim)(h)\n",
    "z_log_sigma = tf.keras.layers.Dense(latent_dim)(h)\n",
    "z = tf.keras.layers.Lambda(sampling)([z_mean, z_log_sigma])\n",
    "\n",
    "# decoder\n",
    "decoder = tf.keras.layers.RepeatVector(timesteps)(z)\n",
    "decoder = tf.keras.layers.LSTM(inter_dim, return_sequences=True)(decoder)\n",
    "decoder = tf.keras.layers.LSTM(inter_dim//4, return_sequences=True)(decoder)\n",
    "decoder = tf.keras.layers.LSTM(inter_dim//2, dropout=dropout, return_sequences=True)(decoder)\n",
    "decoder = tf.keras.layers.TimeDistributed(tf.keras.layers.Dense(features))(decoder)\n",
    "\n",
    "def vae_loss2(input_x, decoder1, z_log_sigma, z_mean):\n",
    "    \"\"\" Calculate loss = reconstruction loss + KL loss for each data in minibatch \"\"\"\n",
    "    # E[log P(X|z)]\n",
    "    recon = K.sum(K.binary_crossentropy(input_x, decoder1))\n",
    "    # D_KL(Q(z|X) || P(z|X)); calculate in closed form as both dist. are Gaussian\n",
    "    kl = 0.5 * K.sum(K.exp(z_log_sigma) + K.square(z_mean) - 1. - z_log_sigma)\n",
    "\n",
    "    return recon + kl\n"
   ]
  },
  {
   "cell_type": "code",
   "execution_count": 193,
   "metadata": {},
   "outputs": [],
   "source": [
    "model = tf.keras.Model(inputs, decoder)\n",
    "model.add_loss(vae_loss2(inputs, decoder, z_log_sigma, z_mean))\n",
    "model.compile(loss='huber', optimizer=tf.keras.optimizers.Adam(learning_rate=learning_rate))"
   ]
  },
  {
   "cell_type": "code",
   "execution_count": 194,
   "metadata": {},
   "outputs": [
    {
     "name": "stdout",
     "output_type": "stream",
     "text": [
      "Model: \"model_11\"\n",
      "__________________________________________________________________________________________________\n",
      " Layer (type)                   Output Shape         Param #     Connected to                     \n",
      "==================================================================================================\n",
      " input_15 (InputLayer)          [(None, 17, 3)]      0           []                               \n",
      "                                                                                                  \n",
      " lstm_78 (LSTM)                 (None, 17, 128)      67584       ['input_15[0][0]']               \n",
      "                                                                                                  \n",
      " lstm_79 (LSTM)                 (None, 17, 64)       49408       ['lstm_78[0][0]']                \n",
      "                                                                                                  \n",
      " lstm_80 (LSTM)                 (None, 256)          328704      ['lstm_79[0][0]']                \n",
      "                                                                                                  \n",
      " dense_39 (Dense)               (None, 16)           4112        ['lstm_80[0][0]']                \n",
      "                                                                                                  \n",
      " dense_40 (Dense)               (None, 16)           4112        ['lstm_80[0][0]']                \n",
      "                                                                                                  \n",
      " lambda_13 (Lambda)             (None, 16)           0           ['dense_39[0][0]',               \n",
      "                                                                  'dense_40[0][0]']               \n",
      "                                                                                                  \n",
      " repeat_vector_13 (RepeatVector  (None, 17, 16)      0           ['lambda_13[0][0]']              \n",
      " )                                                                                                \n",
      "                                                                                                  \n",
      " lstm_81 (LSTM)                 (None, 17, 256)      279552      ['repeat_vector_13[0][0]']       \n",
      "                                                                                                  \n",
      " lstm_82 (LSTM)                 (None, 17, 64)       82176       ['lstm_81[0][0]']                \n",
      "                                                                                                  \n",
      " lstm_83 (LSTM)                 (None, 17, 128)      98816       ['lstm_82[0][0]']                \n",
      "                                                                                                  \n",
      " time_distributed_13 (TimeDistr  (None, 17, 3)       387         ['lstm_83[0][0]']                \n",
      " ibuted)                                                                                          \n",
      "                                                                                                  \n",
      " tf.math.exp_11 (TFOpLambda)    (None, 16)           0           ['dense_40[0][0]']               \n",
      "                                                                                                  \n",
      " tf.math.square_11 (TFOpLambda)  (None, 16)          0           ['dense_39[0][0]']               \n",
      "                                                                                                  \n",
      " tf.__operators__.add_22 (TFOpL  (None, 16)          0           ['tf.math.exp_11[0][0]',         \n",
      " ambda)                                                           'tf.math.square_11[0][0]']      \n",
      "                                                                                                  \n",
      " tf.math.subtract_22 (TFOpLambd  (None, 16)          0           ['tf.__operators__.add_22[0][0]']\n",
      " a)                                                                                               \n",
      "                                                                                                  \n",
      " tf.math.subtract_23 (TFOpLambd  (None, 16)          0           ['tf.math.subtract_22[0][0]',    \n",
      " a)                                                               'dense_40[0][0]']               \n",
      "                                                                                                  \n",
      " tf.keras.backend.binary_crosse  (None, 17, 3)       0           ['input_15[0][0]',               \n",
      " ntropy_11 (TFOpLambda)                                           'time_distributed_13[0][0]']    \n",
      "                                                                                                  \n",
      " tf.math.reduce_sum_23 (TFOpLam  ()                  0           ['tf.math.subtract_23[0][0]']    \n",
      " bda)                                                                                             \n",
      "                                                                                                  \n",
      " tf.math.reduce_sum_22 (TFOpLam  ()                  0           ['tf.keras.backend.binary_crossen\n",
      " bda)                                                            tropy_11[0][0]']                 \n",
      "                                                                                                  \n",
      " tf.math.multiply_11 (TFOpLambd  ()                  0           ['tf.math.reduce_sum_23[0][0]']  \n",
      " a)                                                                                               \n",
      "                                                                                                  \n",
      " tf.__operators__.add_23 (TFOpL  ()                  0           ['tf.math.reduce_sum_22[0][0]',  \n",
      " ambda)                                                           'tf.math.multiply_11[0][0]']    \n",
      "                                                                                                  \n",
      " add_loss_11 (AddLoss)          ()                   0           ['tf.__operators__.add_23[0][0]']\n",
      "                                                                                                  \n",
      "==================================================================================================\n",
      "Total params: 914,851\n",
      "Trainable params: 914,851\n",
      "Non-trainable params: 0\n",
      "__________________________________________________________________________________________________\n"
     ]
    }
   ],
   "source": [
    "model.summary()"
   ]
  },
  {
   "cell_type": "code",
   "execution_count": 195,
   "metadata": {},
   "outputs": [
    {
     "data": {
      "text/plain": [
       "(2140, 17, 3)"
      ]
     },
     "execution_count": 195,
     "metadata": {},
     "output_type": "execute_result"
    }
   ],
   "source": [
    "input_notes_2.shape"
   ]
  },
  {
   "cell_type": "code",
   "execution_count": 196,
   "metadata": {},
   "outputs": [
    {
     "name": "stdout",
     "output_type": "stream",
     "text": [
      "Epoch 1/10\n",
      "343/343 [==============================] - 48s 111ms/step - loss: 497.2682\n",
      "Epoch 2/10\n",
      "343/343 [==============================] - 36s 105ms/step - loss: 329.4367\n",
      "Epoch 3/10\n",
      "343/343 [==============================] - 36s 105ms/step - loss: 235.6868\n",
      "Epoch 4/10\n",
      "343/343 [==============================] - 36s 104ms/step - loss: 221.3096\n",
      "Epoch 5/10\n",
      "343/343 [==============================] - 35s 101ms/step - loss: 211.1527\n",
      "Epoch 6/10\n",
      "343/343 [==============================] - 34s 100ms/step - loss: 201.2906\n",
      "Epoch 7/10\n",
      "343/343 [==============================] - 34s 98ms/step - loss: 194.8893\n",
      "Epoch 8/10\n",
      "343/343 [==============================] - 34s 98ms/step - loss: 191.4065\n",
      "Epoch 9/10\n",
      "343/343 [==============================] - 33s 98ms/step - loss: 188.6245\n",
      "Epoch 10/10\n",
      "343/343 [==============================] - 34s 99ms/step - loss: 185.5432\n"
     ]
    }
   ],
   "source": [
    "epochs = 10\n",
    "history = model.fit(x_train, x_train, epochs=epochs, batch_size=5, use_multiprocessing=True, shuffle=False)"
   ]
  },
  {
   "cell_type": "code",
   "execution_count": 208,
   "metadata": {},
   "outputs": [
    {
     "name": "stdout",
     "output_type": "stream",
     "text": [
      "1/1 [==============================] - 0s 86ms/step\n"
     ]
    }
   ],
   "source": [
    "predictions = model.predict(x_test[0:5])"
   ]
  },
  {
   "cell_type": "code",
   "execution_count": 209,
   "metadata": {},
   "outputs": [
    {
     "data": {
      "text/plain": [
       "array([[0.03374283, 0.01884745, 0.02553125],\n",
       "       [0.09886123, 0.05479217, 0.07852104],\n",
       "       [0.19358711, 0.1057182 , 0.15769814],\n",
       "       [0.3023186 , 0.16279657, 0.25158134],\n",
       "       [0.40638122, 0.21634705, 0.34525385],\n",
       "       [0.491047  , 0.25922582, 0.4258882 ],\n",
       "       [0.5489531 , 0.28812355, 0.4858974 ],\n",
       "       [0.5796752 , 0.30306628, 0.5231732 ],\n",
       "       [0.5872965 , 0.30616456, 0.53958714],\n",
       "       [0.57780886, 0.30040717, 0.53910613],\n",
       "       [0.5572535 , 0.28881723, 0.5262911 ],\n",
       "       [0.5307385 , 0.27398968, 0.5053868 ],\n",
       "       [0.50211334, 0.25791723, 0.47991017],\n",
       "       [0.47401592, 0.24199404, 0.45255405],\n",
       "       [0.44808337, 0.22710666, 0.42525268],\n",
       "       [0.42519805, 0.21375118, 0.39930797],\n",
       "       [0.40570977, 0.20214562, 0.3755242 ]], dtype=float32)"
      ]
     },
     "execution_count": 209,
     "metadata": {},
     "output_type": "execute_result"
    }
   ],
   "source": [
    "predictions[0]"
   ]
  },
  {
   "cell_type": "code",
   "execution_count": 210,
   "metadata": {},
   "outputs": [
    {
     "data": {
      "image/png": "[encoded data removed]",
      "text/plain": [
       "<Figure size 432x288 with 1 Axes>"
      ]
     },
     "metadata": {
      "needs_background": "light"
     },
     "output_type": "display_data"
    }
   ],
   "source": [
    "plt.plot(history.epoch, history.history['loss'], label='total loss')\n",
    "plt.show()"
   ]
  },
  {
   "cell_type": "code",
   "execution_count": 44,
   "metadata": {},
   "outputs": [],
   "source": [
    "def notes_to_midi(\n",
    "  notes: pd.DataFrame,\n",
    "  out_file: str, \n",
    "  instrument_name: str,\n",
    "  velocity: int = 100,  # note loudness\n",
    ") -> pretty_midi.PrettyMIDI:\n",
    "\n",
    "  pm = pretty_midi.PrettyMIDI()\n",
    "  instrument = pretty_midi.Instrument(\n",
    "      program=pretty_midi.instrument_name_to_program(\n",
    "          instrument_name))\n",
    "\n",
    "  prev_start = 0\n",
    "  for i, note in notes.iterrows():\n",
    "    start = float(prev_start + note['step'])\n",
    "    end = float(start + note['duration'])\n",
    "    note = pretty_midi.Note(\n",
    "        velocity=velocity,\n",
    "        pitch=int(note['pitch']),\n",
    "        start=start,\n",
    "        end=end,\n",
    "    )\n",
    "    instrument.notes.append(note)\n",
    "    prev_start = start\n",
    "\n",
    "  pm.instruments.append(instrument)\n",
    "  pm.write(out_file)\n",
    "  return pm"
   ]
  },
  {
   "cell_type": "code",
   "execution_count": 211,
   "metadata": {},
   "outputs": [
    {
     "data": {
      "text/html": [
       "<div>\n",
       "<style scoped>\n",
       "    .dataframe tbody tr th:only-of-type {\n",
       "        vertical-align: middle;\n",
       "    }\n",
       "\n",
       "    .dataframe tbody tr th {\n",
       "        vertical-align: top;\n",
       "    }\n",
       "\n",
       "    .dataframe thead th {\n",
       "        text-align: right;\n",
       "    }\n",
       "</style>\n",
       "<table border=\"1\" class=\"dataframe\">\n",
       "  <thead>\n",
       "    <tr style=\"text-align: right;\">\n",
       "      <th></th>\n",
       "      <th>pitch</th>\n",
       "      <th>step</th>\n",
       "      <th>duration</th>\n",
       "    </tr>\n",
       "  </thead>\n",
       "  <tbody>\n",
       "    <tr>\n",
       "      <th>0</th>\n",
       "      <td>0.033743</td>\n",
       "      <td>0.018847</td>\n",
       "      <td>0.025531</td>\n",
       "    </tr>\n",
       "    <tr>\n",
       "      <th>1</th>\n",
       "      <td>0.098861</td>\n",
       "      <td>0.054792</td>\n",
       "      <td>0.078521</td>\n",
       "    </tr>\n",
       "    <tr>\n",
       "      <th>2</th>\n",
       "      <td>0.193587</td>\n",
       "      <td>0.105718</td>\n",
       "      <td>0.157698</td>\n",
       "    </tr>\n",
       "    <tr>\n",
       "      <th>3</th>\n",
       "      <td>0.302319</td>\n",
       "      <td>0.162797</td>\n",
       "      <td>0.251581</td>\n",
       "    </tr>\n",
       "    <tr>\n",
       "      <th>4</th>\n",
       "      <td>0.406381</td>\n",
       "      <td>0.216347</td>\n",
       "      <td>0.345254</td>\n",
       "    </tr>\n",
       "  </tbody>\n",
       "</table>\n",
       "</div>"
      ],
      "text/plain": [
       "      pitch      step  duration\n",
       "0  0.033743  0.018847  0.025531\n",
       "1  0.098861  0.054792  0.078521\n",
       "2  0.193587  0.105718  0.157698\n",
       "3  0.302319  0.162797  0.251581\n",
       "4  0.406381  0.216347  0.345254"
      ]
     },
     "execution_count": 211,
     "metadata": {},
     "output_type": "execute_result"
    }
   ],
   "source": [
    "generated_notes = pd.DataFrame(predictions[0:5].reshape(5*17, 3), columns=['pitch', 'step', 'duration'])\n",
    "generated_notes.head()"
   ]
  },
  {
   "cell_type": "code",
   "execution_count": 212,
   "metadata": {},
   "outputs": [
    {
     "name": "stdout",
     "output_type": "stream",
     "text": [
      "   pitch      step  duration\n",
      "0      4  0.018847  0.025531\n",
      "1     13  0.054792  0.078521\n",
      "2     25  0.105718  0.157698\n",
      "3     39  0.162797  0.251581\n",
      "4     52  0.216347  0.345254\n"
     ]
    }
   ],
   "source": [
    "generated_notes['pitch'] = generated_notes['pitch'].apply(lambda x: round(x*128))\n",
    "#generated_notes['step'] = generated_notes['step'].apply(lambda x: x*2)\n",
    "print(generated_notes.head())\n",
    "out_file = 'output.mid'\n",
    "out_pm = notes_to_midi(\n",
    "    generated_notes, out_file=out_file, instrument_name=instrument_name[0])"
   ]
  },
  {
   "cell_type": "code",
   "execution_count": 202,
   "metadata": {},
   "outputs": [
    {
     "data": {
      "text/html": [
       "<div>\n",
       "<style scoped>\n",
       "    .dataframe tbody tr th:only-of-type {\n",
       "        vertical-align: middle;\n",
       "    }\n",
       "\n",
       "    .dataframe tbody tr th {\n",
       "        vertical-align: top;\n",
       "    }\n",
       "\n",
       "    .dataframe thead th {\n",
       "        text-align: right;\n",
       "    }\n",
       "</style>\n",
       "<table border=\"1\" class=\"dataframe\">\n",
       "  <thead>\n",
       "    <tr style=\"text-align: right;\">\n",
       "      <th></th>\n",
       "      <th>pitch</th>\n",
       "      <th>step</th>\n",
       "      <th>duration</th>\n",
       "    </tr>\n",
       "  </thead>\n",
       "  <tbody>\n",
       "    <tr>\n",
       "      <th>0</th>\n",
       "      <td>4</td>\n",
       "      <td>0.018949</td>\n",
       "      <td>0.025824</td>\n",
       "    </tr>\n",
       "    <tr>\n",
       "      <th>1</th>\n",
       "      <td>13</td>\n",
       "      <td>0.055159</td>\n",
       "      <td>0.079571</td>\n",
       "    </tr>\n",
       "    <tr>\n",
       "      <th>2</th>\n",
       "      <td>25</td>\n",
       "      <td>0.106502</td>\n",
       "      <td>0.159952</td>\n",
       "    </tr>\n",
       "    <tr>\n",
       "      <th>3</th>\n",
       "      <td>39</td>\n",
       "      <td>0.164075</td>\n",
       "      <td>0.255304</td>\n",
       "    </tr>\n",
       "    <tr>\n",
       "      <th>4</th>\n",
       "      <td>52</td>\n",
       "      <td>0.218108</td>\n",
       "      <td>0.350463</td>\n",
       "    </tr>\n",
       "    <tr>\n",
       "      <th>...</th>\n",
       "      <td>...</td>\n",
       "      <td>...</td>\n",
       "      <td>...</td>\n",
       "    </tr>\n",
       "    <tr>\n",
       "      <th>80</th>\n",
       "      <td>64</td>\n",
       "      <td>0.251100</td>\n",
       "      <td>0.467592</td>\n",
       "    </tr>\n",
       "    <tr>\n",
       "      <th>81</th>\n",
       "      <td>60</td>\n",
       "      <td>0.235160</td>\n",
       "      <td>0.440404</td>\n",
       "    </tr>\n",
       "    <tr>\n",
       "      <th>82</th>\n",
       "      <td>57</td>\n",
       "      <td>0.220188</td>\n",
       "      <td>0.413161</td>\n",
       "    </tr>\n",
       "    <tr>\n",
       "      <th>83</th>\n",
       "      <td>54</td>\n",
       "      <td>0.206703</td>\n",
       "      <td>0.387188</td>\n",
       "    </tr>\n",
       "    <tr>\n",
       "      <th>84</th>\n",
       "      <td>52</td>\n",
       "      <td>0.194943</td>\n",
       "      <td>0.363312</td>\n",
       "    </tr>\n",
       "  </tbody>\n",
       "</table>\n",
       "<p>85 rows × 3 columns</p>\n",
       "</div>"
      ],
      "text/plain": [
       "    pitch      step  duration\n",
       "0       4  0.018949  0.025824\n",
       "1      13  0.055159  0.079571\n",
       "2      25  0.106502  0.159952\n",
       "3      39  0.164075  0.255304\n",
       "4      52  0.218108  0.350463\n",
       "..    ...       ...       ...\n",
       "80     64  0.251100  0.467592\n",
       "81     60  0.235160  0.440404\n",
       "82     57  0.220188  0.413161\n",
       "83     54  0.206703  0.387188\n",
       "84     52  0.194943  0.363312\n",
       "\n",
       "[85 rows x 3 columns]"
      ]
     },
     "execution_count": 202,
     "metadata": {},
     "output_type": "execute_result"
    }
   ],
   "source": [
    "generated_notes"
   ]
  },
  {
   "cell_type": "code",
   "execution_count": 188,
   "metadata": {},
   "outputs": [],
   "source": [
    "generated_notes_letters = np.vectorize(pretty_midi.note_number_to_name)"
   ]
  },
  {
   "cell_type": "code",
   "execution_count": 189,
   "metadata": {},
   "outputs": [],
   "source": [
    "sample_note_names = get_note_names(generated_notes['pitch'])"
   ]
  },
  {
   "cell_type": "code",
   "execution_count": 190,
   "metadata": {},
   "outputs": [
    {
     "data": {
      "text/plain": [
       "array(['C#4', 'G4', 'E4', 'F#4', 'F4', 'F#4', 'F#4', 'F#4', 'F#4', 'F#4',\n",
       "       'F#4', 'F#4', 'F#4', 'F#4', 'F#4', 'F#4', 'F#4', 'C#4', 'F#4',\n",
       "       'F4', 'F#4', 'F4', 'F#4', 'F#4', 'F#4', 'F#4', 'F#4', 'F#4', 'F#4',\n",
       "       'F#4', 'F#4', 'F#4', 'F#4', 'F#4', 'D4', 'F#4', 'E4', 'F#4', 'F4',\n",
       "       'F#4', 'F#4', 'F#4', 'F#4', 'F#4', 'F#4', 'F#4', 'F#4', 'F#4',\n",
       "       'F#4', 'F#4', 'F#4', 'C#4', 'G4', 'F4', 'F#4', 'F4', 'F#4', 'F#4',\n",
       "       'F#4', 'F#4', 'F#4', 'F#4', 'F#4', 'F#4', 'F#4', 'F#4', 'F#4',\n",
       "       'F#4', 'D4', 'F#4', 'F4', 'F#4', 'F4', 'F#4', 'F#4', 'F#4', 'F#4',\n",
       "       'F#4', 'F#4', 'F#4', 'F#4', 'F#4', 'F#4', 'F#4', 'F#4'],\n",
       "      dtype='<U3')"
      ]
     },
     "execution_count": 190,
     "metadata": {},
     "output_type": "execute_result"
    }
   ],
   "source": [
    "sample_note_names"
   ]
  },
  {
   "cell_type": "code",
   "execution_count": 229,
   "metadata": {},
   "outputs": [
    {
     "name": "stdout",
     "output_type": "stream",
     "text": [
      "model saved succeed\n"
     ]
    }
   ],
   "source": [
    "import datetime\n",
    "#print(str(datetime.datetime.now()))\n",
    "try:\n",
    "    model.save_weights(filepath='lstm_vae_weights')\n",
    "    print('model saved succeed')\n",
    "except Exception:\n",
    "    print('не то')\n"
   ]
  },
  {
   "cell_type": "code",
   "execution_count": 80,
   "metadata": {},
   "outputs": [],
   "source": [
    "class LSTM_VAE(tf.keras.Model):\n",
    "    def __init__(self, vocab_size, embedding_dim, rnn_units, latent_dim, num_layers):\n",
    "        super().__init__(self)\n",
    "\n",
    "        self.vocab_size = vocab_size\n",
    "        self.embedding_dim = embedding_dim\n",
    "        self.rnn_units = rnn_units\n",
    "        self.latent_dim = latent_dim\n",
    "        self.num_layers = num_layers\n",
    "\n",
    "        # Embedding layer\n",
    "        self.embed = tf.keras.layers.Embedding(self.vocab_size, self.embedding_dim)\n",
    "\n",
    "        # Encoder\n",
    "        self.encoder_lstm = tf.keras.layers.LSTM(units=self.embedding_dim, )(self.embed)\n"
   ]
  }
 ],
 "metadata": {
  "kernelspec": {
   "display_name": "Python 3",
   "language": "python",
   "name": "python3"
  },
  "language_info": {
   "codemirror_mode": {
    "name": "ipython",
    "version": 3
   },
   "file_extension": ".py",
   "mimetype": "text/x-python",
   "name": "python",
   "nbconvert_exporter": "python",
   "pygments_lexer": "ipython3",
   "version": "3.10.4"
  },
  "orig_nbformat": 4
 },
 "nbformat": 4,
 "nbformat_minor": 2
}
